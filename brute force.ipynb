{
 "metadata": {
  "name": "brute force"
 }, 
 "nbformat": 2, 
 "worksheets": [
  {
   "cells": [
    {
     "cell_type": "code", 
     "collapsed": true, 
     "input": [
      "import networkx as nx", 
      "import csv", 
      "import json", 
      "import matplotlib.pyplot as plt"
     ], 
     "language": "python", 
     "outputs": [], 
     "prompt_number": 6
    }, 
    {
     "cell_type": "code", 
     "collapsed": true, 
     "input": [
      "output = []", 
      "g = nx.Graph()"
     ], 
     "language": "python", 
     "outputs": [], 
     "prompt_number": 7
    }, 
    {
     "cell_type": "code", 
     "collapsed": true, 
     "input": [
      "with open(\"/home/yods/work/nesta-data/adds-larger.csv\", 'rb') as csvfile:", 
      "    r = csv.reader(csvfile, delimiter=',')", 
      "    for row in r:", 
      "        output.append(row)"
     ], 
     "language": "python", 
     "outputs": [], 
     "prompt_number": 4
    }, 
    {
     "cell_type": "code", 
     "collapsed": false, 
     "input": [
      "output[0]"
     ], 
     "language": "python", 
     "outputs": [
      {
       "output_type": "pyout", 
       "prompt_number": 5, 
       "text": [
        "['AvianFlu', 'Arro']"
       ]
      }
     ], 
     "prompt_number": 5
    }, 
    {
     "cell_type": "code", 
     "collapsed": true, 
     "input": [
      "a = [g.add_edges_from([(row)]) for row in output]"
     ], 
     "language": "python", 
     "outputs": [], 
     "prompt_number": 6
    }, 
    {
     "cell_type": "code", 
     "collapsed": true, 
     "input": [
      "nx.draw(g)", 
      "plt.show()"
     ], 
     "language": "python", 
     "outputs": [], 
     "prompt_number": "*"
    }, 
    {
     "cell_type": "code", 
     "collapsed": true, 
     "input": [
      "innovators = [\"idiot\", \"aslakhellesoy\", \"alexyoung\"]"
     ], 
     "language": "python", 
     "outputs": [], 
     "prompt_number": 3
    }, 
    {
     "cell_type": "code", 
     "collapsed": false, 
     "input": [
      "for x in innovators:", 
      "    output = []", 
      "    g = nx.DiGraph()", 
      "    fin = \"/home/yods/work/nesta-data/output/\" + x + \".csv\"", 
      "    fout = \"/home/yods/work/nesta-data/graphs/\" + x", 
      "    with open(, 'rb') as csvfile:", 
      "        r = csv.reader(csvfile, delimiter=',')", 
      "        for row in r:", 
      "            output.append(row)", 
      "            ", 
      "    a = [g.add_edges_from([(row)]) for row in output]", 
      "    g.remove_nodes_from((n for n,d in h.degree_iter() if d<7))", 
      "    "
     ], 
     "language": "python", 
     "outputs": [
      {
       "ename": "IndentationError", 
       "evalue": "unindent does not match any outer indentation level (<ipython-input-8-e08ebef5fc86>, line 8)", 
       "output_type": "pyerr", 
       "traceback": [
        "\u001b[0;31mIndentationError\u001b[0m\u001b[0;31m:\u001b[0m unindent does not match any outer indentation level\n"
       ]
      }
     ], 
     "prompt_number": 8
    }, 
    {
     "cell_type": "code", 
     "collapsed": false, 
     "input": [
      "g = nx.DiGraph()"
     ], 
     "language": "python", 
     "outputs": [], 
     "prompt_number": 9
    }, 
    {
     "cell_type": "code", 
     "collapsed": false, 
     "input": [
      "\"AA\" + \"B\""
     ], 
     "language": "python", 
     "outputs": [
      {
       "output_type": "pyout", 
       "prompt_number": 10, 
       "text": [
        "'AAB'"
       ]
      }
     ], 
     "prompt_number": 10
    }, 
    {
     "cell_type": "code", 
     "collapsed": true, 
     "input": [], 
     "language": "python", 
     "outputs": []
    }
   ]
  }
 ]
}