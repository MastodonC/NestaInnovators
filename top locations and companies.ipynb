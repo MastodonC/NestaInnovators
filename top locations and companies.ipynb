{
 "metadata": {
  "name": "top locations and companies"
 }, 
 "nbformat": 2, 
 "worksheets": [
  {
   "cells": [
    {
     "cell_type": "code", 
     "collapsed": true, 
     "input": [
      "import pandas as p"
     ], 
     "language": "python", 
     "outputs": [], 
     "prompt_number": 1
    }, 
    {
     "cell_type": "code", 
     "collapsed": true, 
     "input": [
      "data = p.read_csv(\"/home/yods/Dropbox/nesta/users_clean.csv\",header=True)"
     ], 
     "language": "python", 
     "outputs": [], 
     "prompt_number": 2
    }, 
    {
     "cell_type": "code", 
     "collapsed": false, 
     "input": [
      "data"
     ], 
     "language": "python", 
     "outputs": [
      {
       "output_type": "pyout", 
       "prompt_number": 8, 
       "text": [
        "<class 'pandas.core.frame.DataFrame'>", 
        "Int64Index: 2598 entries, 0 to 2597", 
        "Data columns:", 
        "110953\taddyosmani\t6754\t190\tAddy Osmani\tLONDON\tCHROME DEVELOPER RELATIONS AT GOOGLE.    2598  non-null values", 
        "dtypes: object(1)"
       ]
      }
     ], 
     "prompt_number": 8
    }, 
    {
     "cell_type": "code", 
     "collapsed": true, 
     "input": [], 
     "language": "python", 
     "outputs": []
    }
   ]
  }
 ]
}